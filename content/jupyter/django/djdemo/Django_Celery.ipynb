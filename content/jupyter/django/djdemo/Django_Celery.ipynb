{
 "cells": [
  {
   "cell_type": "markdown",
   "metadata": {},
   "source": [
    "# 1 安装celery"
   ]
  },
  {
   "cell_type": "code",
   "execution_count": 13,
   "metadata": {
    "collapsed": false
   },
   "outputs": [
    {
     "name": "stdout",
     "output_type": "stream",
     "text": [
      "Requirement already satisfied: celery in /u01/virenv/jupyter/lib/python3.4/site-packages\n",
      "Requirement already satisfied: billiard<3.6.0,>=3.5.0.2 in /u01/virenv/jupyter/lib/python3.4/site-packages (from celery)\n",
      "Requirement already satisfied: kombu<5.0,>=4.0.2 in /u01/virenv/jupyter/lib/python3.4/site-packages (from celery)\n",
      "Requirement already satisfied: pytz>dev in /u01/virenv/jupyter/lib/python3.4/site-packages (from celery)\n",
      "Requirement already satisfied: amqp<3.0,>=2.1.4 in /u01/virenv/jupyter/lib/python3.4/site-packages (from kombu<5.0,>=4.0.2->celery)\n",
      "Requirement already satisfied: vine>=1.1.3 in /u01/virenv/jupyter/lib/python3.4/site-packages (from amqp<3.0,>=2.1.4->kombu<5.0,>=4.0.2->celery)\n",
      "Requirement already satisfied: django-celery-results in /u01/virenv/jupyter/lib/python3.4/site-packages\n",
      "Requirement already satisfied: celery<5.0,>=4.0 in /u01/virenv/jupyter/lib/python3.4/site-packages (from django-celery-results)\n",
      "Requirement already satisfied: billiard<3.6.0,>=3.5.0.2 in /u01/virenv/jupyter/lib/python3.4/site-packages (from celery<5.0,>=4.0->django-celery-results)\n",
      "Requirement already satisfied: kombu<5.0,>=4.0.2 in /u01/virenv/jupyter/lib/python3.4/site-packages (from celery<5.0,>=4.0->django-celery-results)\n",
      "Requirement already satisfied: pytz>dev in /u01/virenv/jupyter/lib/python3.4/site-packages (from celery<5.0,>=4.0->django-celery-results)\n",
      "Requirement already satisfied: amqp<3.0,>=2.1.4 in /u01/virenv/jupyter/lib/python3.4/site-packages (from kombu<5.0,>=4.0.2->celery<5.0,>=4.0->django-celery-results)\n",
      "Requirement already satisfied: vine>=1.1.3 in /u01/virenv/jupyter/lib/python3.4/site-packages (from amqp<3.0,>=2.1.4->kombu<5.0,>=4.0.2->celery<5.0,>=4.0->django-celery-results)\n",
      "Requirement already satisfied: django_celery_beat in /u01/virenv/jupyter/lib/python3.4/site-packages\n",
      "Requirement already satisfied: celery<5.0,>=4.0 in /u01/virenv/jupyter/lib/python3.4/site-packages (from django_celery_beat)\n",
      "Requirement already satisfied: kombu<5.0,>=4.0.2 in /u01/virenv/jupyter/lib/python3.4/site-packages (from celery<5.0,>=4.0->django_celery_beat)\n",
      "Requirement already satisfied: pytz>dev in /u01/virenv/jupyter/lib/python3.4/site-packages (from celery<5.0,>=4.0->django_celery_beat)\n",
      "Requirement already satisfied: billiard<3.6.0,>=3.5.0.2 in /u01/virenv/jupyter/lib/python3.4/site-packages (from celery<5.0,>=4.0->django_celery_beat)\n",
      "Requirement already satisfied: amqp<3.0,>=2.1.4 in /u01/virenv/jupyter/lib/python3.4/site-packages (from kombu<5.0,>=4.0.2->celery<5.0,>=4.0->django_celery_beat)\n",
      "Requirement already satisfied: vine>=1.1.3 in /u01/virenv/jupyter/lib/python3.4/site-packages (from amqp<3.0,>=2.1.4->kombu<5.0,>=4.0.2->celery<5.0,>=4.0->django_celery_beat)\n"
     ]
    }
   ],
   "source": [
    "!pip install celery\n",
    "!pip install django-celery-results\n",
    "!pip install django_celery_beat"
   ]
  },
  {
   "cell_type": "markdown",
   "metadata": {},
   "source": [
    "# 2 配置django\n",
    "\n",
    "\n",
    "## djdemo/celery.py\n",
    "```\n",
    "from __future__ import absolute_import, unicode_literals\n",
    "\n",
    "import os\n",
    "\n",
    "from celery import Celery\n",
    "\n",
    "# set the default Django settings module for the 'celery' program.\n",
    "os.environ.setdefault('DJANGO_SETTINGS_MODULE', 'djdemo.settings')\n",
    "\n",
    "app = Celery('djdemo')\n",
    "\n",
    "# Using a string here means the worker don't have to serialize\n",
    "# the configuration object to child processes.\n",
    "# - namespace='CELERY' means all celery-related configuration keys\n",
    "#   should have a `CELERY_` prefix.\n",
    "app.config_from_object('django.conf:settings', namespace='CELERY')\n",
    "\n",
    "# Load task modules from all registered Django app configs.\n",
    "app.autodiscover_tasks()\n",
    "\n",
    "\n",
    "@app.task(bind=True)\n",
    "def debug_task(self):\n",
    "    print('Request: {0!r}'.format(self.request))\n",
    "    \n",
    "@app.task(bind=True)\n",
    "def debug_task2(self, user='World'):\n",
    "    print('Hello {0}'.format(user))\n",
    "    return 'Hello {0}'.format(user)\n",
    "```\n",
    "## djdemo/settings.py\n",
    "```\n",
    "...\n",
    "INSTALLED_APPS = [\n",
    "    ...\n",
    "    'django_celery_beat',\n",
    "    'django_celery_results',\n",
    "    ...\n",
    "]\n",
    "...\n",
    "########################################\n",
    "# Celery Setting\n",
    "########################################\n",
    "CELERY_RESULT_BACKEND = 'django-db'\n",
    "# CELERY_RESULT_BACKEND = 'django-cache'\n",
    "CELERY_BROKER_URL = 'amqp://localhost//'\n",
    "\n",
    "#: Only add pickle to this list if your broker is secured\n",
    "#: from unwanted access (see userguide/security.html)\n",
    "CELERY_ACCEPT_CONTENT = ['json']\n",
    "CELERY_TASK_SERIALIZER = 'json'\n",
    "# CELERY_RESULT_SERIALIZER = 'json'\n",
    "CELERY_TIMEZONE = 'Asia/Shanghai'\n",
    "CELERY_SEND_TASK_ERROR_EMAILS = True\n",
    "...\n",
    "```\n",
    "\n",
    "\n",
    "## djdemo/__init__.py\n",
    "```\n",
    "from __future__ import absolute_import, unicode_literals\n",
    "\n",
    "# For python3 \n",
    "import pymysql\n",
    "\n",
    "pymysql.install_as_MySQLdb()\n",
    "\n",
    "# This will make sure the app is always imported when\n",
    "# Django starts so that shared_task will use this app.\n",
    "from .celery import app as celery_app\n",
    "\n",
    "__all__ = ['celery_app']\n",
    "\n",
    "```"
   ]
  },
  {
   "cell_type": "markdown",
   "metadata": {},
   "source": [
    "# 3 Celery Demo"
   ]
  },
  {
   "cell_type": "markdown",
   "metadata": {},
   "source": [
    "## 发起Task"
   ]
  },
  {
   "cell_type": "code",
   "execution_count": 6,
   "metadata": {
    "collapsed": false
   },
   "outputs": [],
   "source": [
    "from djdemo.celery import debug_task, debug_task2\n",
    "r = debug_task.delay()\n",
    "r2 = debug_task2.delay('Yi')"
   ]
  },
  {
   "cell_type": "markdown",
   "metadata": {},
   "source": [
    "## 执行worker"
   ]
  },
  {
   "cell_type": "code",
   "execution_count": 3,
   "metadata": {
    "collapsed": false,
    "scrolled": false
   },
   "outputs": [
    {
     "name": "stdout",
     "output_type": "stream",
     "text": [
      "/u01/virenv/jupyter/lib/python3.4/site-packages/celery/platforms.py:793: RuntimeWarning: You're running the worker with superuser privileges: this is\n",
      "absolutely not recommended!\n",
      "\n",
      "Please specify a different user using the -u option.\n",
      "\n",
      "User information: uid=0 euid=0 gid=0 egid=0\n",
      "\n",
      "  uid=uid, euid=euid, gid=gid, egid=egid,\n",
      "\u001b[1;34m[2017-04-11 03:51:20,433: DEBUG/MainProcess] | Worker: Preparing bootsteps.\u001b[0m\n",
      "\u001b[1;34m[2017-04-11 03:51:20,440: DEBUG/MainProcess] | Worker: Building graph...\u001b[0m\n",
      "\u001b[1;34m[2017-04-11 03:51:20,440: DEBUG/MainProcess] | Worker: New boot order: {Beat, StateDB, Timer, Hub, Pool, Autoscaler, Consumer}\u001b[0m\n",
      "\u001b[1;34m[2017-04-11 03:51:20,452: DEBUG/MainProcess] | Consumer: Preparing bootsteps.\u001b[0m\n",
      "\u001b[1;34m[2017-04-11 03:51:20,452: DEBUG/MainProcess] | Consumer: Building graph...\u001b[0m\n",
      "\u001b[1;34m[2017-04-11 03:51:20,461: DEBUG/MainProcess] | Consumer: New boot order: {Connection, Events, Mingle, Gossip, Tasks, Control, Heart, Agent, event loop}\u001b[0m\n",
      "\u001b[1;36m \n",
      " -------------- celery@iZ25jddfnqaZ v4.0.2 (latentcall)\n",
      "---- **** ----- \n",
      "--- * ***  * -- Linux-3.10.0-123.9.3.el7.x86_64-x86_64-with-centos-7.0.1406-Core 2017-04-11 03:51:20\n",
      "-- * - **** --- \n",
      "- ** ---------- [config]\n",
      "- ** ---------- .> app:         djdemo:0x7f8e8ee16320\n",
      "- ** ---------- .> transport:   amqp://guest:**@localhost:5672//\n",
      "- ** ---------- .> results:     \n",
      "- *** --- * --- .> concurrency: 1 (prefork)\n",
      "-- ******* ---- .> task events: OFF (enable -E to monitor tasks in this worker)\n",
      "--- ***** ----- \n",
      " -------------- [queues]\n",
      "                .> celery           exchange=celery(direct) key=celery\n",
      "                \n",
      "\u001b[0m\u001b[0m\n",
      "[tasks]\n",
      "  . celery.accumulate\n",
      "  . celery.backend_cleanup\n",
      "  . celery.chain\n",
      "  . celery.chord\n",
      "  . celery.chord_unlock\n",
      "  . celery.chunks\n",
      "  . celery.group\n",
      "  . celery.map\n",
      "  . celery.starmap\n",
      "  . djdemo.celery.debug_task\n",
      "  . djdemo.celery.debug_task2\n",
      "\u001b[0m\n",
      "\u001b[1;34m[2017-04-11 03:51:20,467: DEBUG/MainProcess] | Worker: Starting Hub\u001b[0m\n",
      "\u001b[1;34m[2017-04-11 03:51:20,468: DEBUG/MainProcess] ^-- substep ok\u001b[0m\n",
      "\u001b[1;34m[2017-04-11 03:51:20,468: DEBUG/MainProcess] | Worker: Starting Pool\u001b[0m\n",
      "\u001b[1;34m[2017-04-11 03:51:20,502: DEBUG/MainProcess] ^-- substep ok\u001b[0m\n",
      "\u001b[1;34m[2017-04-11 03:51:20,503: DEBUG/MainProcess] | Worker: Starting Consumer\u001b[0m\n",
      "\u001b[1;34m[2017-04-11 03:51:20,503: DEBUG/MainProcess] | Consumer: Starting Connection\u001b[0m\n",
      "\u001b[1;34m[2017-04-11 03:51:20,534: DEBUG/MainProcess] Start from server, version: 0.9, properties: {'product': 'RabbitMQ', 'capabilities': {'basic.nack': True, 'consumer_priorities': True, 'consumer_cancel_notify': True, 'per_consumer_qos': True, 'exchange_exchange_bindings': True, 'authentication_failure_close': True, 'connection.blocked': True, 'publisher_confirms': True}, 'platform': 'Erlang/OTP', 'information': 'Licensed under the MPL.  See http://www.rabbitmq.com/', 'copyright': 'Copyright (C) 2007-2014 GoPivotal, Inc.', 'cluster_name': 'rabbit@iZ25jddfnqaZ', 'version': '3.3.5'}, mechanisms: ['PLAIN', 'AMQPLAIN'], locales: ['en_US']\u001b[0m\n",
      "[2017-04-11 03:51:20,547: INFO/MainProcess] Connected to amqp://guest:**@127.0.0.1:5672//\n",
      "\u001b[1;34m[2017-04-11 03:51:20,553: DEBUG/MainProcess] ^-- substep ok\u001b[0m\n",
      "\u001b[1;34m[2017-04-11 03:51:20,555: DEBUG/MainProcess] | Consumer: Starting Events\u001b[0m\n",
      "\u001b[1;34m[2017-04-11 03:51:20,594: DEBUG/MainProcess] Start from server, version: 0.9, properties: {'product': 'RabbitMQ', 'capabilities': {'basic.nack': True, 'consumer_priorities': True, 'consumer_cancel_notify': True, 'per_consumer_qos': True, 'exchange_exchange_bindings': True, 'authentication_failure_close': True, 'connection.blocked': True, 'publisher_confirms': True}, 'platform': 'Erlang/OTP', 'information': 'Licensed under the MPL.  See http://www.rabbitmq.com/', 'copyright': 'Copyright (C) 2007-2014 GoPivotal, Inc.', 'cluster_name': 'rabbit@iZ25jddfnqaZ', 'version': '3.3.5'}, mechanisms: ['PLAIN', 'AMQPLAIN'], locales: ['en_US']\u001b[0m\n",
      "\u001b[1;34m[2017-04-11 03:51:20,606: DEBUG/MainProcess] ^-- substep ok\u001b[0m\n",
      "\u001b[1;34m[2017-04-11 03:51:20,611: DEBUG/MainProcess] | Consumer: Starting Mingle\u001b[0m\n",
      "[2017-04-11 03:51:20,613: INFO/MainProcess] mingle: searching for neighbors\n",
      "\u001b[1;34m[2017-04-11 03:51:20,615: DEBUG/MainProcess] using channel_id: 1\u001b[0m\n",
      "\u001b[1;34m[2017-04-11 03:51:20,627: DEBUG/MainProcess] Channel open\u001b[0m\n",
      "\u001b[1;34m[2017-04-11 03:51:20,673: DEBUG/MainProcess] Start from server, version: 0.9, properties: {'product': 'RabbitMQ', 'capabilities': {'basic.nack': True, 'consumer_priorities': True, 'consumer_cancel_notify': True, 'per_consumer_qos': True, 'exchange_exchange_bindings': True, 'authentication_failure_close': True, 'connection.blocked': True, 'publisher_confirms': True}, 'platform': 'Erlang/OTP', 'information': 'Licensed under the MPL.  See http://www.rabbitmq.com/', 'copyright': 'Copyright (C) 2007-2014 GoPivotal, Inc.', 'cluster_name': 'rabbit@iZ25jddfnqaZ', 'version': '3.3.5'}, mechanisms: ['PLAIN', 'AMQPLAIN'], locales: ['en_US']\u001b[0m\n",
      "\u001b[1;34m[2017-04-11 03:51:20,680: DEBUG/MainProcess] using channel_id: 1\u001b[0m\n",
      "\u001b[1;34m[2017-04-11 03:51:20,686: DEBUG/MainProcess] Channel open\u001b[0m\n",
      "[2017-04-11 03:51:21,708: INFO/MainProcess] mingle: all alone\n",
      "\u001b[1;34m[2017-04-11 03:51:21,708: DEBUG/MainProcess] ^-- substep ok\u001b[0m\n",
      "\u001b[1;34m[2017-04-11 03:51:21,709: DEBUG/MainProcess] | Consumer: Starting Gossip\u001b[0m\n",
      "\u001b[1;34m[2017-04-11 03:51:21,709: DEBUG/MainProcess] using channel_id: 2\u001b[0m\n",
      "\u001b[1;34m[2017-04-11 03:51:21,717: DEBUG/MainProcess] Channel open\u001b[0m\n",
      "\u001b[1;34m[2017-04-11 03:51:21,738: DEBUG/MainProcess] ^-- substep ok\u001b[0m\n",
      "\u001b[1;34m[2017-04-11 03:51:21,740: DEBUG/MainProcess] | Consumer: Starting Tasks\u001b[0m\n",
      "\u001b[1;34m[2017-04-11 03:51:21,750: DEBUG/MainProcess] ^-- substep ok\u001b[0m\n",
      "\u001b[1;34m[2017-04-11 03:51:21,751: DEBUG/MainProcess] | Consumer: Starting Control\u001b[0m\n",
      "\u001b[1;34m[2017-04-11 03:51:21,751: DEBUG/MainProcess] using channel_id: 3\u001b[0m\n",
      "\u001b[1;34m[2017-04-11 03:51:21,758: DEBUG/MainProcess] Channel open\u001b[0m\n",
      "\u001b[1;34m[2017-04-11 03:51:21,771: DEBUG/MainProcess] ^-- substep ok\u001b[0m\n",
      "\u001b[1;34m[2017-04-11 03:51:21,772: DEBUG/MainProcess] | Consumer: Starting Heart\u001b[0m\n",
      "\u001b[1;34m[2017-04-11 03:51:21,776: DEBUG/MainProcess] using channel_id: 1\u001b[0m\n",
      "\u001b[1;34m[2017-04-11 03:51:21,784: DEBUG/MainProcess] Channel open\u001b[0m\n",
      "\u001b[1;34m[2017-04-11 03:51:21,789: DEBUG/MainProcess] ^-- substep ok\u001b[0m\n",
      "\u001b[1;34m[2017-04-11 03:51:21,790: DEBUG/MainProcess] | Consumer: Starting event loop\u001b[0m\n",
      "\u001b[1;33m[2017-04-11 03:51:21,795: WARNING/MainProcess] /u01/virenv/jupyter/lib/python3.4/site-packages/celery/fixups/django.py:202: UserWarning: Using settings.DEBUG leads to a memory leak, never use this setting in production environments!\n",
      "  warnings.warn('Using settings.DEBUG leads to a memory leak, never '\u001b[0m\n",
      "[2017-04-11 03:51:21,801: INFO/MainProcess] celery@iZ25jddfnqaZ ready.\n",
      "\u001b[1;34m[2017-04-11 03:51:21,802: DEBUG/MainProcess] | Worker: Hub.register Pool...\u001b[0m\n",
      "\u001b[1;34m[2017-04-11 03:51:21,805: DEBUG/MainProcess] basic.qos: prefetch_count->4\u001b[0m\n",
      "^C\n",
      "\n",
      "worker: Hitting Ctrl+C again will terminate all running tasks!\n",
      "\n",
      "worker: Warm shutdown (MainProcess)\n",
      "\u001b[1;34m[2017-04-11 03:51:46,470: DEBUG/MainProcess] | Worker: Closing Hub...\u001b[0m\n",
      "\u001b[1;34m[2017-04-11 03:51:46,470: DEBUG/MainProcess] | Worker: Closing Pool...\u001b[0m\n",
      "\u001b[1;34m[2017-04-11 03:51:46,470: DEBUG/MainProcess] | Worker: Closing Consumer...\u001b[0m\n",
      "\u001b[1;34m[2017-04-11 03:51:46,470: DEBUG/MainProcess] | Worker: Stopping Consumer...\u001b[0m\n",
      "\u001b[1;34m[2017-04-11 03:51:46,471: DEBUG/MainProcess] | Consumer: Closing Connection...\u001b[0m\n",
      "\u001b[1;34m[2017-04-11 03:51:46,471: DEBUG/MainProcess] | Consumer: Closing Events...\u001b[0m\n",
      "\u001b[1;34m[2017-04-11 03:51:46,471: DEBUG/MainProcess] | Consumer: Closing Mingle...\u001b[0m\n",
      "\u001b[1;34m[2017-04-11 03:51:46,471: DEBUG/MainProcess] | Consumer: Closing Gossip...\u001b[0m\n",
      "\u001b[1;34m[2017-04-11 03:51:46,472: DEBUG/MainProcess] | Consumer: Closing Tasks...\u001b[0m\n",
      "\u001b[1;34m[2017-04-11 03:51:46,472: DEBUG/MainProcess] | Consumer: Closing Control...\u001b[0m\n",
      "\u001b[1;34m[2017-04-11 03:51:46,472: DEBUG/MainProcess] | Consumer: Closing Heart...\u001b[0m\n",
      "\u001b[1;34m[2017-04-11 03:51:46,472: DEBUG/MainProcess] | Consumer: Closing event loop...\u001b[0m\n",
      "\u001b[1;34m[2017-04-11 03:51:46,473: DEBUG/MainProcess] | Consumer: Stopping event loop...\u001b[0m\n",
      "\u001b[1;34m[2017-04-11 03:51:46,473: DEBUG/MainProcess] | Consumer: Stopping Heart...\u001b[0m\n",
      "\u001b[1;34m[2017-04-11 03:51:46,474: DEBUG/MainProcess] | Consumer: Stopping Control...\u001b[0m\n",
      "\u001b[1;34m[2017-04-11 03:51:46,476: DEBUG/MainProcess] Closed channel #3\u001b[0m\n",
      "\u001b[1;34m[2017-04-11 03:51:46,477: DEBUG/MainProcess] | Consumer: Stopping Tasks...\u001b[0m\n",
      "\u001b[1;34m[2017-04-11 03:51:46,477: DEBUG/MainProcess] Canceling task consumer...\u001b[0m\n",
      "\u001b[1;34m[2017-04-11 03:51:46,478: DEBUG/MainProcess] | Consumer: Stopping Gossip...\u001b[0m\n",
      "\u001b[1;34m[2017-04-11 03:51:46,480: DEBUG/MainProcess] Closed channel #2\u001b[0m\n",
      "\u001b[1;34m[2017-04-11 03:51:46,480: DEBUG/MainProcess] | Consumer: Stopping Mingle...\u001b[0m\n",
      "\u001b[1;34m[2017-04-11 03:51:46,480: DEBUG/MainProcess] | Consumer: Stopping Events...\u001b[0m\n",
      "\u001b[1;34m[2017-04-11 03:51:46,481: DEBUG/MainProcess] | Consumer: Stopping Connection...\u001b[0m\n",
      "\u001b[1;34m[2017-04-11 03:51:46,481: DEBUG/MainProcess] | Worker: Stopping Pool...\u001b[0m\n"
     ]
    }
   ],
   "source": [
    "!celery -A djdemo worker -l DEBUG --concurrency=1"
   ]
  },
  {
   "cell_type": "markdown",
   "metadata": {},
   "source": [
    "## 获取结果"
   ]
  },
  {
   "cell_type": "code",
   "execution_count": 8,
   "metadata": {
    "collapsed": false
   },
   "outputs": [
    {
     "name": "stdout",
     "output_type": "stream",
     "text": [
      "None\n",
      "dd8a595e-d559-4011-bdcc-8b5887bfe0f2\n",
      "Hello Yi\n",
      "99454285-eae1-4a1e-9efc-1f38087ed595\n"
     ]
    }
   ],
   "source": [
    "rst = r.get()\n",
    "print(rst)\n",
    "print (r.id)\n",
    "\n",
    "rst = r2.get()\n",
    "print(rst)\n",
    "print (r2.id)"
   ]
  },
  {
   "cell_type": "code",
   "execution_count": null,
   "metadata": {
    "collapsed": true
   },
   "outputs": [],
   "source": []
  }
 ],
 "metadata": {
  "kernelspec": {
   "display_name": "Django Shell-Plus",
   "language": "python",
   "name": "django_extensions"
  },
  "language_info": {
   "codemirror_mode": {
    "name": "ipython",
    "version": 3
   },
   "file_extension": ".py",
   "mimetype": "text/x-python",
   "name": "python",
   "nbconvert_exporter": "python",
   "pygments_lexer": "ipython3",
   "version": "3.4.5"
  }
 },
 "nbformat": 4,
 "nbformat_minor": 2
}
