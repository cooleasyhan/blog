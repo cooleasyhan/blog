{
 "cells": [
  {
   "cell_type": "code",
   "execution_count": 1,
   "metadata": {
    "collapsed": true,
    "deletable": true,
    "editable": true
   },
   "outputs": [],
   "source": [
    "import pika"
   ]
  },
  {
   "cell_type": "code",
   "execution_count": 1,
   "metadata": {
    "collapsed": false,
    "deletable": true,
    "editable": true
   },
   "outputs": [],
   "source": [
    "import pika\n",
    "connection = pika.BlockingConnection()\n",
    "channel = connection.channel()\n",
    "channel.queue_declare('test')\n",
    "channel.exchange_declare('test')\n",
    "channel.queue_bind(queue='test',exchange='test', routing_key='test')\n",
    "rst = channel.basic_publish(exchange='test',\n",
    "                      routing_key='test',\n",
    "                      body='Test Message')\n",
    "connection.close()"
   ]
  },
  {
   "cell_type": "code",
   "execution_count": 8,
   "metadata": {
    "collapsed": false,
    "deletable": true,
    "editable": true
   },
   "outputs": [
    {
     "name": "stdout",
     "output_type": "stream",
     "text": [
      "No message returned\n"
     ]
    }
   ],
   "source": [
    "import pika\n",
    "\n",
    "connection = pika.BlockingConnection()\n",
    "channel = connection.channel()\n",
    "method_frame, header_frame, body = channel.basic_get('test')\n",
    "if method_frame:\n",
    "    print (method_frame, header_frame, body)\n",
    "    channel.basic_ack(method_frame.delivery_tag)\n",
    "else:\n",
    "    print ('No message returned')\n",
    "\n",
    "connection.close()"
   ]
  },
  {
   "cell_type": "code",
   "execution_count": null,
   "metadata": {
    "collapsed": true,
    "deletable": true,
    "editable": true
   },
   "outputs": [],
   "source": []
  },
  {
   "cell_type": "code",
   "execution_count": null,
   "metadata": {
    "collapsed": true
   },
   "outputs": [],
   "source": []
  }
 ],
 "metadata": {
  "kernelspec": {
   "display_name": "Django Shell-Plus",
   "language": "python",
   "name": "django_extensions"
  },
  "language_info": {
   "codemirror_mode": {
    "name": "ipython",
    "version": 3
   },
   "file_extension": ".py",
   "mimetype": "text/x-python",
   "name": "python",
   "nbconvert_exporter": "python",
   "pygments_lexer": "ipython3",
   "version": "3.4.5"
  }
 },
 "nbformat": 4,
 "nbformat_minor": 2
}
