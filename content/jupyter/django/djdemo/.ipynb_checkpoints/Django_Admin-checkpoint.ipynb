{
 "cells": [
  {
   "cell_type": "code",
   "execution_count": 3,
   "metadata": {
    "collapsed": false
   },
   "outputs": [],
   "source": [
    "from django.contrib import admin\n",
    "class DemoAdmin(admin.ModelAdmin):\n",
    "    list_display = [] # 列表页展示\n",
    "    list_filter =[] # filter 列表\n",
    "    search_fields=[] # 检索\n",
    "    filter_horizontal=[] # ManyToMany字段\n",
    "    actions=['action_demo']\n",
    "    def action_demo(self, request, query_set):\n",
    "        pass\n",
    "    \n",
    "    # 获取特定字段的queryset，默认返回为None，可用于ForeignKey\n",
    "    def get_field_queryset(self, db, db_field, request)：\n",
    "        qs = super(DemoAdmin, self).get_field_queryset(db, db_field, request)\n",
    "        if str(db_field) == '_app._module._col_name'\n",
    "            path_infos = request.path_info.split('/')\n",
    "            obj = Xxx_Module1.objects.get(pk=path_infos[4])\n",
    "            if qs:\n",
    "                qs = qs.filter(xxx=obj.xxx_col)\n",
    "            else:\n",
    "                qs = Xxx_Module2.objects.filter(xxx=report.gt_table)\n",
    "        return qs\n",
    "    \n",
    "\n",
    "\n",
    "    \n",
    "    "
   ]
  },
  {
   "cell_type": "code",
   "execution_count": 5,
   "metadata": {
    "collapsed": false
   },
   "outputs": [
    {
     "ename": "NameError",
     "evalue": "name 'CuxUnifyImportLayMap' is not defined",
     "output_type": "error",
     "traceback": [
      "\u001b[0;31m---------------------------------------------------------------------------\u001b[0m",
      "\u001b[0;31mNameError\u001b[0m                                 Traceback (most recent call last)",
      "\u001b[0;32m<ipython-input-5-36678cb09371>\u001b[0m in \u001b[0;36m<module>\u001b[0;34m()\u001b[0m\n\u001b[0;32m----> 1\u001b[0;31m \u001b[0;32mclass\u001b[0m \u001b[0mXXXInlineAdmin\u001b[0m\u001b[0;34m(\u001b[0m\u001b[0madmin\u001b[0m\u001b[0;34m.\u001b[0m\u001b[0mTabularInline\u001b[0m\u001b[0;34m)\u001b[0m\u001b[0;34m:\u001b[0m\u001b[0;34m\u001b[0m\u001b[0m\n\u001b[0m\u001b[1;32m      2\u001b[0m     \u001b[0mmodel\u001b[0m \u001b[0;34m=\u001b[0m \u001b[0mCuxUnifyImportLayMap\u001b[0m\u001b[0;34m\u001b[0m\u001b[0m\n\u001b[1;32m      3\u001b[0m     \u001b[0mfields\u001b[0m \u001b[0;34m=\u001b[0m \u001b[0;34m[\u001b[0m\u001b[0;34m'col_seq'\u001b[0m\u001b[0;34m,\u001b[0m \u001b[0;34m'col_desc'\u001b[0m\u001b[0;34m,\u001b[0m\u001b[0;34m'display_flag'\u001b[0m\u001b[0;34m,\u001b[0m\u001b[0;34m'table_col'\u001b[0m\u001b[0;34m,\u001b[0m \u001b[0;34m'col_name'\u001b[0m\u001b[0;34m,\u001b[0m  \u001b[0;34m'data_type'\u001b[0m\u001b[0;34m,\u001b[0m \u001b[0;34m'data_format'\u001b[0m\u001b[0;34m,\u001b[0m \u001b[0;34m]\u001b[0m\u001b[0;34m\u001b[0m\u001b[0m\n\u001b[1;32m      4\u001b[0m     \u001b[0;31m# 'col_type'\u001b[0m\u001b[0;34m\u001b[0m\u001b[0;34m\u001b[0m\u001b[0m\n\u001b[1;32m      5\u001b[0m \u001b[0;34m\u001b[0m\u001b[0m\n",
      "\u001b[0;32m<ipython-input-5-36678cb09371>\u001b[0m in \u001b[0;36mXXXInlineAdmin\u001b[0;34m()\u001b[0m\n\u001b[1;32m      1\u001b[0m \u001b[0;32mclass\u001b[0m \u001b[0mXXXInlineAdmin\u001b[0m\u001b[0;34m(\u001b[0m\u001b[0madmin\u001b[0m\u001b[0;34m.\u001b[0m\u001b[0mTabularInline\u001b[0m\u001b[0;34m)\u001b[0m\u001b[0;34m:\u001b[0m\u001b[0;34m\u001b[0m\u001b[0m\n\u001b[0;32m----> 2\u001b[0;31m     \u001b[0mmodel\u001b[0m \u001b[0;34m=\u001b[0m \u001b[0mCuxUnifyImportLayMap\u001b[0m\u001b[0;34m\u001b[0m\u001b[0m\n\u001b[0m\u001b[1;32m      3\u001b[0m     \u001b[0mfields\u001b[0m \u001b[0;34m=\u001b[0m \u001b[0;34m[\u001b[0m\u001b[0;34m'col_seq'\u001b[0m\u001b[0;34m,\u001b[0m \u001b[0;34m'col_desc'\u001b[0m\u001b[0;34m,\u001b[0m\u001b[0;34m'display_flag'\u001b[0m\u001b[0;34m,\u001b[0m\u001b[0;34m'table_col'\u001b[0m\u001b[0;34m,\u001b[0m \u001b[0;34m'col_name'\u001b[0m\u001b[0;34m,\u001b[0m  \u001b[0;34m'data_type'\u001b[0m\u001b[0;34m,\u001b[0m \u001b[0;34m'data_format'\u001b[0m\u001b[0;34m,\u001b[0m \u001b[0;34m]\u001b[0m\u001b[0;34m\u001b[0m\u001b[0m\n\u001b[1;32m      4\u001b[0m     \u001b[0;31m# 'col_type'\u001b[0m\u001b[0;34m\u001b[0m\u001b[0;34m\u001b[0m\u001b[0m\n\u001b[1;32m      5\u001b[0m \u001b[0;34m\u001b[0m\u001b[0m\n",
      "\u001b[0;31mNameError\u001b[0m: name 'CuxUnifyImportLayMap' is not defined"
     ]
    }
   ],
   "source": [
    "class XXXInlineAdmin(admin.TabularInline):\n",
    "    model = CuxUnifyImportLayMap\n",
    "    fields = ['col_seq', 'col_desc','display_flag','table_col', 'col_name',  'data_type', 'data_format', ]\n",
    "    # 'col_type'\n",
    "\n",
    "class XXXAdmin(admin.ModelAdmin):\n",
    "    inlines = [CuxUnifyImportLayMapAdmin, ]\n",
    "    \n"
   ]
  },
  {
   "cell_type": "code",
   "execution_count": null,
   "metadata": {
    "collapsed": true
   },
   "outputs": [],
   "source": []
  }
 ],
 "metadata": {
  "kernelspec": {
   "display_name": "Python 3",
   "language": "python",
   "name": "python3"
  },
  "language_info": {
   "codemirror_mode": {
    "name": "ipython",
    "version": 3
   },
   "file_extension": ".py",
   "mimetype": "text/x-python",
   "name": "python",
   "nbconvert_exporter": "python",
   "pygments_lexer": "ipython3",
   "version": "3.4.5"
  }
 },
 "nbformat": 4,
 "nbformat_minor": 2
}
