{
 "cells": [
  {
   "cell_type": "code",
   "execution_count": 29,
   "metadata": {
    "collapsed": true,
    "deletable": true,
    "editable": true
   },
   "outputs": [],
   "source": [
    "\"\"\"\n",
    "\n",
    "    KMP Search\n",
    "    ----------\n",
    "    Implementation of kmp search on string. Uses a prefix function to reduce\n",
    "    the searching time.\n",
    "\n",
    "    Time Complexity:  O(n + k), where k is the substring to be found\n",
    "\n",
    "    Psuedo Code: CLRS. Introduction to Algorithms. 3rd ed.\n",
    "\n",
    "\"\"\"\n",
    "\n",
    "\n",
    "def search(string, word):\n",
    "    \"\"\"\n",
    "    Searches for occurrences of a \"word\" within a main \"string\" by employing\n",
    "    the observation that when a mismatch occurs, the word itself embodies\n",
    "    sufficient information to determine where the next match could begin,\n",
    "    thus bypassing re-examination of previously matched characters.\n",
    "\n",
    "    :param string: The string to be searched.\n",
    "    :param word: The sub string to be searched for.\n",
    "    :rtype: The indices of all occurences of where the substring is found in\n",
    "            the string.\n",
    "    \"\"\"\n",
    "    word_length = len(word)\n",
    "    string_length = len(string)\n",
    "    offsets = []\n",
    "\n",
    "    if word_length > string_length:\n",
    "        return offsets\n",
    "\n",
    "    prefix = compute_prefix(word)\n",
    "    q = 0\n",
    "    for index, letter in enumerate(string):\n",
    "        while q > 0 and word[q] != letter:\n",
    "            q = prefix[q - 1]\n",
    "        if word[q] == letter:\n",
    "            q += 1\n",
    "        if q == word_length:\n",
    "            offsets.append(index - word_length + 1)\n",
    "            q = prefix[q - 1]\n",
    "    return offsets\n",
    "\n",
    "\n",
    "def compute_prefix(word):\n",
    "    \"\"\"\n",
    "    Returns the prefix of the word.\n",
    "\n",
    "    :param word: The sub string that the prefix will be computed for.\n",
    "    :rtype: Returns computed prefix of the word.\n",
    "    \"\"\"\n",
    "    word_length = len(word)\n",
    "    prefix = [0] * word_length\n",
    "    k = 0\n",
    "\n",
    "    for q in range(1, word_length):\n",
    "        while k > 0 and word[k] != word[q]:\n",
    "            k = prefix[k - 1]\n",
    "\n",
    "        if word[k + 1] == word[q]:\n",
    "            k = k + 1\n",
    "        prefix[q] = k\n",
    "    return prefix\n"
   ]
  },
  {
   "cell_type": "code",
   "execution_count": 30,
   "metadata": {
    "collapsed": false,
    "deletable": true,
    "editable": true
   },
   "outputs": [
    {
     "data": {
      "text/plain": [
       "[]"
      ]
     },
     "execution_count": 30,
     "metadata": {},
     "output_type": "execute_result"
    }
   ],
   "source": [
    "search('babcbabcabcaabcabcabcacabc','abcabcacab')"
   ]
  },
  {
   "cell_type": "code",
   "execution_count": 22,
   "metadata": {
    "collapsed": false,
    "deletable": true,
    "editable": true
   },
   "outputs": [
    {
     "data": {
      "text/plain": [
       "[0, 1, 0, 0, 1, 0, 0, 0, 0, 1]"
      ]
     },
     "execution_count": 22,
     "metadata": {},
     "output_type": "execute_result"
    }
   ],
   "source": [
    "compute_prefix('abcabcacab')"
   ]
  },
  {
   "cell_type": "code",
   "execution_count": 24,
   "metadata": {
    "collapsed": false,
    "deletable": true,
    "editable": true
   },
   "outputs": [
    {
     "data": {
      "text/plain": [
       "[0, 1, 1, 0, 1, 1, 0, 5, 0, 1]"
      ]
     },
     "execution_count": 24,
     "metadata": {},
     "output_type": "execute_result"
    }
   ],
   "source": [
    "[0,1,1,0,1,1,0,5,0,1]"
   ]
  },
  {
   "cell_type": "code",
   "execution_count": 27,
   "metadata": {
    "collapsed": false,
    "deletable": true,
    "editable": true
   },
   "outputs": [
    {
     "name": "stdout",
     "output_type": "stream",
     "text": [
      "0 0\n",
      "1 1\n",
      "2 1\n",
      "3 0\n",
      "4 1\n",
      "5 1\n",
      "6 0\n",
      "7 5\n",
      "8 0\n",
      "9 1\n"
     ]
    },
    {
     "data": {
      "text/plain": [
       "[1, 1, 2, 4, 4, 5, 7, 3, 9, 9]"
      ]
     },
     "execution_count": 27,
     "metadata": {},
     "output_type": "execute_result"
    }
   ],
   "source": [
    "l = list()\n",
    "for idx, i in enumerate([0,1,1,0,1,1,0,5,0,1]):\n",
    "    print(idx, i)\n",
    "    l.append(idx+1-i)\n",
    "l"
   ]
  },
  {
   "cell_type": "code",
   "execution_count": null,
   "metadata": {
    "collapsed": false
   },
   "outputs": [],
   "source": [
    "def build_next(pattern):\n",
    "    \n",
    "    length = len(pattern)\n",
    "    next_ = list([0]*length)\n",
    "    i = 1  \n",
    "    t = 0\n",
    "    next_[1] = 0\n",
    "  \n",
    "    while i < length + 1:\n",
    "    \n",
    "        while t > 0 and pattern[i - 1] != pattern[t - 1]:\n",
    "        \n",
    "            t = next_[t]\n",
    "          \n",
    "  \n",
    "        ++t;  \n",
    "        ++i;  \n",
    "  \n",
    "        if pattern[i - 1] == pattern[t - 1]:\n",
    "        \n",
    "            next_[i] = next_[t]\n",
    "          \n",
    "        else:  \n",
    "        \n",
    "            next_[i] = t  \n",
    "             \n",
    "\n",
    "#     pattern末尾的结束符控制，用于寻找目标字符串中的所有匹配结果用  \n",
    "    while t > 0 and pattern[i - 1] != pattern[t - 1]:\n",
    "      \n",
    "        t = next_[t]\n",
    "    \n",
    "  \n",
    "    ++t;  \n",
    "    ++i;  \n",
    "  \n",
    "    next_[i] = t;  \n",
    "    return next_\n"
   ]
  },
  {
   "cell_type": "code",
   "execution_count": null,
   "metadata": {
    "collapsed": false
   },
   "outputs": [],
   "source": [
    "rst = build_next('abcabcacab')\n",
    "print(rst)"
   ]
  },
  {
   "cell_type": "code",
   "execution_count": null,
   "metadata": {
    "collapsed": true
   },
   "outputs": [],
   "source": [
    "length = 10\n",
    "r = list([0] * length)\n"
   ]
  },
  {
   "cell_type": "code",
   "execution_count": null,
   "metadata": {
    "collapsed": true
   },
   "outputs": [],
   "source": [
    "print(10)"
   ]
  },
  {
   "cell_type": "code",
   "execution_count": null,
   "metadata": {
    "collapsed": true
   },
   "outputs": [],
   "source": []
  }
 ],
 "metadata": {
  "kernelspec": {
   "display_name": "Python 3",
   "language": "python",
   "name": "python3"
  },
  "language_info": {
   "codemirror_mode": {
    "name": "ipython",
    "version": 3
   },
   "file_extension": ".py",
   "mimetype": "text/x-python",
   "name": "python",
   "nbconvert_exporter": "python",
   "pygments_lexer": "ipython3",
   "version": "3.4.5"
  }
 },
 "nbformat": 4,
 "nbformat_minor": 2
}
