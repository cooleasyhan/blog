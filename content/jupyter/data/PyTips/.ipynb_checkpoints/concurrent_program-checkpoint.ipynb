{
 "cells": [
  {
   "cell_type": "code",
   "execution_count": 68,
   "metadata": {
    "collapsed": false
   },
   "outputs": [
    {
     "name": "stdout",
     "output_type": "stream",
     "text": [
      "Python 3.4.5\r\n"
     ]
    }
   ],
   "source": [
    "!python -V"
   ]
  },
  {
   "cell_type": "code",
   "execution_count": 69,
   "metadata": {
    "collapsed": true
   },
   "outputs": [],
   "source": [
    "import asyncio\n",
    "import time\n"
   ]
  },
  {
   "cell_type": "code",
   "execution_count": 70,
   "metadata": {
    "collapsed": false
   },
   "outputs": [
    {
     "name": "stdout",
     "output_type": "stream",
     "text": [
      "Slow Operation 2 complete\n",
      "Slow Operation 1 complete\n",
      "Slow Operation 3 complete\n",
      "3\n",
      "2\n",
      "1\n"
     ]
    }
   ],
   "source": [
    "\n",
    "\n",
    "@asyncio.coroutine\n",
    "def slow_operation(n):\n",
    "    yield from asyncio.sleep(1)\n",
    "    print('Slow Operation {} complete'.format(n))\n",
    "    return n\n",
    "\n",
    "s1 = slow_operation(1)\n",
    "s2 = slow_operation(2)\n",
    "s3 = slow_operation(3)\n",
    "loop = asyncio.get_event_loop()\n",
    "rsts = loop.run_until_complete(asyncio.wait([s1,s2,s3]))\n",
    "\n",
    "for r in rsts[0]:\n",
    "    print(r.result())\n",
    "    "
   ]
  },
  {
   "cell_type": "code",
   "execution_count": 88,
   "metadata": {
    "collapsed": false
   },
   "outputs": [
    {
     "name": "stdout",
     "output_type": "stream",
     "text": [
      "main get generator\n",
      "main send\n",
      "real_slow_operation start\n",
      "main set_result\n",
      "main send2\n",
      "real_slow_operation end\n",
      "Finished\n",
      "main get futhure result\n"
     ]
    },
    {
     "data": {
      "text/plain": [
       "4"
      ]
     },
     "execution_count": 88,
     "metadata": {},
     "output_type": "execute_result"
    }
   ],
   "source": [
    "def real_slow_operation(n):\n",
    "    print('real_slow_operation start')\n",
    "    time.sleep(1)\n",
    "    yield asyncio.Future()\n",
    "    print('real_slow_operation end')\n",
    "    return n*n\n",
    "\n",
    "print('main get generator')\n",
    "s4 = real_slow_operation(4)\n",
    "\n",
    "\n",
    "print('main send')\n",
    "f = s4.send(None)\n",
    "print('main set_result')\n",
    "f.set_result(4)\n",
    "\n",
    "\n",
    "try:\n",
    "    print('main send2')\n",
    "    s4.send(None)\n",
    "except StopIteration:\n",
    "    print('Finished')\n",
    "\n",
    "print('main get futhure result')\n",
    "f.result()\n"
   ]
  },
  {
   "cell_type": "code",
   "execution_count": null,
   "metadata": {
    "collapsed": true
   },
   "outputs": [],
   "source": []
  }
 ],
 "metadata": {
  "kernelspec": {
   "display_name": "Python 3",
   "language": "python",
   "name": "python3"
  },
  "language_info": {
   "codemirror_mode": {
    "name": "ipython",
    "version": 3
   },
   "file_extension": ".py",
   "mimetype": "text/x-python",
   "name": "python",
   "nbconvert_exporter": "python",
   "pygments_lexer": "ipython3",
   "version": "3.4.5"
  }
 },
 "nbformat": 4,
 "nbformat_minor": 2
}
