{
 "cells": [
  {
   "cell_type": "code",
   "execution_count": 1,
   "metadata": {
    "collapsed": false
   },
   "outputs": [
    {
     "data": {
      "text/plain": [
       "__main__.Tmp"
      ]
     },
     "execution_count": 1,
     "metadata": {},
     "output_type": "execute_result"
    }
   ],
   "source": [
    "class Tmp(object):\n",
    "    pass\n",
    "\n",
    "Tmp"
   ]
  },
  {
   "cell_type": "code",
   "execution_count": 2,
   "metadata": {
    "collapsed": false
   },
   "outputs": [
    {
     "name": "stdout",
     "output_type": "stream",
     "text": [
      "<__main__.Tmp object at 0x7fceb45e0198>\n",
      "True\n",
      "<__main__.Tmp object at 0x7fceb45e0198>\n"
     ]
    }
   ],
   "source": [
    "t = Tmp()\n",
    "print(t)\n",
    "n = t\n",
    "if n==t:\n",
    "    print(True)\n",
    "del(t)\n",
    "print(n)"
   ]
  },
  {
   "cell_type": "code",
   "execution_count": 3,
   "metadata": {
    "collapsed": false
   },
   "outputs": [
    {
     "name": "stdout",
     "output_type": "stream",
     "text": [
      "<__main__.Tmp object at 0x7fceb45e00b8>\n",
      "<__main__.Tmp object at 0x7fceb45e00b8>\n",
      "True\n",
      "<class 'ReferenceError'> ('weakly-referenced object no longer exists',)\n"
     ]
    }
   ],
   "source": [
    "from weakref import proxy\n",
    "t = Tmp()\n",
    "print(t)\n",
    "n = proxy(t)\n",
    "print(t)\n",
    "if n==t:\n",
    "    print(True)\n",
    "del(t)\n",
    "try:\n",
    "    print(n)\n",
    "except ReferenceError as e:\n",
    "    print(type(e), e.args)"
   ]
  },
  {
   "cell_type": "code",
   "execution_count": null,
   "metadata": {
    "collapsed": true
   },
   "outputs": [],
   "source": []
  }
 ],
 "metadata": {
  "kernelspec": {
   "display_name": "Python 3",
   "language": "python",
   "name": "python3"
  },
  "language_info": {
   "codemirror_mode": {
    "name": "ipython",
    "version": 3
   },
   "file_extension": ".py",
   "mimetype": "text/x-python",
   "name": "python",
   "nbconvert_exporter": "python",
   "pygments_lexer": "ipython3",
   "version": "3.4.5"
  }
 },
 "nbformat": 4,
 "nbformat_minor": 2
}
