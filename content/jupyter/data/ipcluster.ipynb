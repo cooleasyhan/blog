{
 "cells": [
  {
   "cell_type": "code",
   "execution_count": 2,
   "metadata": {
    "collapsed": false
   },
   "outputs": [
    {
     "name": "stdout",
     "output_type": "stream",
     "text": [
      "Requirement already satisfied: ipyparallel in /u01/virenv/jupyter/lib/python3.4/site-packages\n",
      "Requirement already satisfied: ipython-genutils in /u01/virenv/jupyter/lib/python3.4/site-packages (from ipyparallel)\n",
      "Requirement already satisfied: decorator in /u01/virenv/jupyter/lib/python3.4/site-packages (from ipyparallel)\n",
      "Requirement already satisfied: ipykernel in /u01/virenv/jupyter/lib/python3.4/site-packages (from ipyparallel)\n",
      "Requirement already satisfied: tornado>=4 in /u01/virenv/jupyter/lib/python3.4/site-packages (from ipyparallel)\n",
      "Requirement already satisfied: python-dateutil>=2.1 in /u01/virenv/jupyter/lib/python3.4/site-packages (from ipyparallel)\n",
      "Requirement already satisfied: jupyter-client in /u01/virenv/jupyter/lib/python3.4/site-packages (from ipyparallel)\n",
      "Requirement already satisfied: ipython>=4 in /u01/virenv/jupyter/lib/python3.4/site-packages (from ipyparallel)\n",
      "Requirement already satisfied: pyzmq>=13 in /u01/virenv/jupyter/lib/python3.4/site-packages (from ipyparallel)\n",
      "Requirement already satisfied: traitlets>=4.1.0 in /u01/virenv/jupyter/lib/python3.4/site-packages (from ipykernel->ipyparallel)\n",
      "Requirement already satisfied: backports-abc>=0.4 in /u01/virenv/jupyter/lib/python3.4/site-packages (from tornado>=4->ipyparallel)\n",
      "Requirement already satisfied: six>=1.5 in /u01/virenv/jupyter/lib/python3.4/site-packages (from python-dateutil>=2.1->ipyparallel)\n",
      "Requirement already satisfied: jupyter-core in /u01/virenv/jupyter/lib/python3.4/site-packages (from jupyter-client->ipyparallel)\n",
      "Requirement already satisfied: pickleshare in /u01/virenv/jupyter/lib/python3.4/site-packages (from ipython>=4->ipyparallel)\n",
      "Requirement already satisfied: simplegeneric>0.8 in /u01/virenv/jupyter/lib/python3.4/site-packages (from ipython>=4->ipyparallel)\n",
      "Requirement already satisfied: pygments in /u01/virenv/jupyter/lib/python3.4/site-packages (from ipython>=4->ipyparallel)\n",
      "Requirement already satisfied: pexpect; sys_platform != \"win32\" in /u01/virenv/jupyter/lib/python3.4/site-packages (from ipython>=4->ipyparallel)\n",
      "Requirement already satisfied: prompt-toolkit<2.0.0,>=1.0.4 in /u01/virenv/jupyter/lib/python3.4/site-packages (from ipython>=4->ipyparallel)\n",
      "Requirement already satisfied: setuptools>=18.5 in /u01/virenv/jupyter/lib/python3.4/site-packages (from ipython>=4->ipyparallel)\n",
      "Requirement already satisfied: ptyprocess>=0.5 in /u01/virenv/jupyter/lib/python3.4/site-packages (from pexpect; sys_platform != \"win32\"->ipython>=4->ipyparallel)\n",
      "Requirement already satisfied: wcwidth in /u01/virenv/jupyter/lib/python3.4/site-packages (from prompt-toolkit<2.0.0,>=1.0.4->ipython>=4->ipyparallel)\n",
      "Requirement already satisfied: packaging>=16.8 in /u01/virenv/jupyter/lib/python3.4/site-packages (from setuptools>=18.5->ipython>=4->ipyparallel)\n",
      "Requirement already satisfied: appdirs>=1.4.0 in /u01/virenv/jupyter/lib/python3.4/site-packages (from setuptools>=18.5->ipython>=4->ipyparallel)\n",
      "Requirement already satisfied: pyparsing in /u01/virenv/jupyter/lib/python3.4/site-packages (from packaging>=16.8->setuptools>=18.5->ipython>=4->ipyparallel)\n",
      "Enabling IPython clusters tab\n",
      "Installing /u01/virenv/jupyter/lib/python3.4/site-packages/ipyparallel/nbextension/static -> ipyparallel\n",
      "Up to date: /u01/virenv/jupyter/share/jupyter/nbextensions/ipyparallel/clusterlist.css\n",
      "Up to date: /u01/virenv/jupyter/share/jupyter/nbextensions/ipyparallel/main.js\n",
      "Up to date: /u01/virenv/jupyter/share/jupyter/nbextensions/ipyparallel/clusterlist.js\n",
      "- Validating: \u001b[32mOK\u001b[0m\n",
      "\n",
      "    To initialize this nbextension in the browser every time the notebook (or other app) loads:\n",
      "    \n",
      "          jupyter nbextension enable ipyparallel --py --sys-prefix\n",
      "    \n",
      "Enabling tree extension ipyparallel/main...\n",
      "      - Validating: \u001b[32mOK\u001b[0m\n",
      "Enabling tree extension ipyparallel/main...\n",
      "      - Validating: \u001b[32mOK\u001b[0m\n",
      "Enabling: ipyparallel.nbextension\n",
      "- Writing config: /u01/virenv/jupyter/etc/jupyter\n",
      "    - Validating...\n",
      "      ipyparallel.nbextension  \u001b[32mOK\u001b[0m\n",
      "2017-04-11 13:09:15.608 [IPClusterStart] Starting ipcluster with [daemon=False]\n",
      "2017-04-11 13:09:15.609 [IPClusterStart] Creating pid file: /root/.ipython/profile_default/pid/ipcluster.pid\n",
      "2017-04-11 13:09:15.609 [IPClusterStart] Starting Controller with LocalControllerLauncher\n",
      "2017-04-11 13:09:16.613 [IPClusterStart] Starting 1 Engines with LocalEngineSetLauncher\n",
      "^C\n",
      "2017-04-11 13:09:23.347 [IPClusterStart] ERROR | IPython cluster: stopping\n",
      "2017-04-11 13:09:23.347 [IPClusterStart] Stopping Engines...\n"
     ]
    }
   ],
   "source": [
    "!pip install ipyparallel\n",
    "!ipcluster nbextension enable\n",
    "!jupyter nbextension install --sys-prefix --py ipyparallel\n",
    "!jupyter nbextension enable ipyparallel --py --sys-prefix\n",
    "!jupyter nbextension enable --sys-prefix --py ipyparallel\n",
    "!jupyter serverextension enable --sys-prefix --py ipyparallel\n",
    "!ipcluster start"
   ]
  },
  {
   "cell_type": "code",
   "execution_count": 3,
   "metadata": {
    "collapsed": true,
    "deletable": true,
    "editable": true
   },
   "outputs": [],
   "source": [
    "import os\n",
    "import ipyparallel as ipp\n",
    "\n",
    "rc = ipp.Client()\n",
    "ar = rc[:].apply_async(os.getpid)\n",
    "pid_map = ar.get_dict()"
   ]
  },
  {
   "cell_type": "code",
   "execution_count": 4,
   "metadata": {
    "collapsed": false,
    "deletable": true,
    "editable": true
   },
   "outputs": [
    {
     "name": "stdout",
     "output_type": "stream",
     "text": [
      "{0: 20908}\n"
     ]
    }
   ],
   "source": [
    "print(pid_map)"
   ]
  },
  {
   "cell_type": "code",
   "execution_count": null,
   "metadata": {
    "collapsed": true,
    "deletable": true,
    "editable": true
   },
   "outputs": [],
   "source": []
  }
 ],
 "metadata": {
  "kernelspec": {
   "display_name": "Python 3",
   "language": "python",
   "name": "python3"
  },
  "language_info": {
   "codemirror_mode": {
    "name": "ipython",
    "version": 3
   },
   "file_extension": ".py",
   "mimetype": "text/x-python",
   "name": "python",
   "nbconvert_exporter": "python",
   "pygments_lexer": "ipython3",
   "version": "3.4.5"
  }
 },
 "nbformat": 4,
 "nbformat_minor": 2
}
